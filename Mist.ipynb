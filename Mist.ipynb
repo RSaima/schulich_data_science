{
  "nbformat": 4,
  "nbformat_minor": 0,
  "metadata": {
    "colab": {
      "provenance": [],
      "authorship_tag": "ABX9TyPdEVfKzpuq8r4FkjyVNPjC"
    },
    "kernelspec": {
      "name": "python3",
      "display_name": "Python 3"
    },
    "language_info": {
      "name": "python"
    }
  },
  "cells": [
    {
      "cell_type": "code",
      "execution_count": null,
      "metadata": {
        "id": "lb9uZ4tL4Qsn"
      },
      "outputs": [],
      "source": [
        "import tensorflow as tf\n",
        "from tensorflow.keras.datasets import cifar10\n",
        "from tensorflow.keras.utils import to_categorical\n",
        "\n",
        "import pandas as pd\n",
        "import numpy as np\n",
        "import matplotlib.pyplot as plt\n",
        "from sklearn.preprocessing import StandardScaler\n",
        "from sklearn.preprocessing import OneHotEncoder\n"
      ]
    },
    {
      "cell_type": "code",
      "source": [
        "def load_dataset(train_size, test_size):\n",
        "    train, test = tf.keras.datasets.mnist.load_data()\n",
        "\n",
        "    # take a sample\n",
        "    train_idx = np.random.randint(low=0, high=train[0].shape[0], size=train_size)\n",
        "    test_idx = np.random.randint(low=0, high=test[0].shape[0], size=test_size)\n",
        "    X_train = train[0][train_idx].reshape(-1,28*28)\n",
        "    y_train = train[1][train_idx].reshape(-1,1)\n",
        "    X_test = test[0][test_idx].reshape(-1,28*28)\n",
        "    y_test = test[1][test_idx].reshape(-1,1)\n",
        "\n",
        "    scale = StandardScaler()\n",
        "    X_train = scale.fit_transform(X_train)\n",
        "    X_test = scale.transform(X_test)\n",
        "\n",
        "    OH = OneHotEncoder(categories='auto', sparse=False)\n",
        "    y_train = OH.fit_transform(y_train)\n",
        "    y_test = OH.transform(y_test)\n",
        "\n",
        "    print('X_train:',X_train.shape)\n",
        "    print('y_train:',y_train.shape)\n",
        "    print('X_test:',X_test.shape)\n",
        "    print('y_test:',y_test.shape)\n",
        "    print('Min:', X_train.min())\n",
        "    print('Max:', X_train.max())\n",
        "\n",
        "    return X_train, X_test, y_train, y_test"
      ],
      "metadata": {
        "id": "4hIUBkUb4Uon"
      },
      "execution_count": null,
      "outputs": []
    },
    {
      "cell_type": "code",
      "source": [
        "X_train, X_test, y_train, y_test = load_dataset(60000,10000)"
      ],
      "metadata": {
        "colab": {
          "base_uri": "https://localhost:8080/"
        },
        "id": "ia4m2Rjy6c7J",
        "outputId": "d7587e29-6435-42f7-ae15-e4bd8bafe236"
      },
      "execution_count": null,
      "outputs": [
        {
          "output_type": "stream",
          "name": "stdout",
          "text": [
            "X_train: (60000, 784)\n",
            "y_train: (60000, 10)\n",
            "X_test: (10000, 784)\n",
            "y_test: (10000, 10)\n",
            "Min: -1.2726440513527293\n",
            "Max: 244.9469330285158\n"
          ]
        },
        {
          "output_type": "stream",
          "name": "stderr",
          "text": [
            "/usr/local/lib/python3.10/dist-packages/sklearn/preprocessing/_encoders.py:868: FutureWarning: `sparse` was renamed to `sparse_output` in version 1.2 and will be removed in 1.4. `sparse_output` is ignored unless you leave `sparse` to its default value.\n",
            "  warnings.warn(\n"
          ]
        }
      ]
    },
    {
      "cell_type": "code",
      "source": [
        "X_train, y_train = X_train/255.0, y_train/255.0"
      ],
      "metadata": {
        "id": "EPZ-tr8x8PmS"
      },
      "execution_count": null,
      "outputs": []
    },
    {
      "cell_type": "code",
      "source": [
        "X_train"
      ],
      "metadata": {
        "colab": {
          "base_uri": "https://localhost:8080/"
        },
        "id": "45u7E-E35ywt",
        "outputId": "e490a7ef-ac16-4263-cb11-daf67ec3633c"
      },
      "execution_count": null,
      "outputs": [
        {
          "output_type": "execute_result",
          "data": {
            "text/plain": [
              "array([[0., 0., 0., ..., 0., 0., 0.],\n",
              "       [0., 0., 0., ..., 0., 0., 0.],\n",
              "       [0., 0., 0., ..., 0., 0., 0.],\n",
              "       ...,\n",
              "       [0., 0., 0., ..., 0., 0., 0.],\n",
              "       [0., 0., 0., ..., 0., 0., 0.],\n",
              "       [0., 0., 0., ..., 0., 0., 0.]])"
            ]
          },
          "metadata": {},
          "execution_count": 16
        }
      ]
    },
    {
      "cell_type": "code",
      "source": [
        "X_train.shape"
      ],
      "metadata": {
        "colab": {
          "base_uri": "https://localhost:8080/"
        },
        "id": "QPLuvtYj87tH",
        "outputId": "59a4aabf-4206-49f5-e48e-90f8da61f1b2"
      },
      "execution_count": null,
      "outputs": [
        {
          "output_type": "execute_result",
          "data": {
            "text/plain": [
              "(60000, 784)"
            ]
          },
          "metadata": {},
          "execution_count": 19
        }
      ]
    },
    {
      "cell_type": "code",
      "source": [
        "X_test.shape"
      ],
      "metadata": {
        "colab": {
          "base_uri": "https://localhost:8080/"
        },
        "id": "cSWQxVd88_FC",
        "outputId": "2eec5a20-de74-48f3-cdfb-098971604e16"
      },
      "execution_count": null,
      "outputs": [
        {
          "output_type": "execute_result",
          "data": {
            "text/plain": [
              "(10000, 784)"
            ]
          },
          "metadata": {},
          "execution_count": 20
        }
      ]
    },
    {
      "cell_type": "code",
      "source": [
        "X_train = X_train.reshape(X_train.shape[0],28,28,1)\n",
        "X_test = X_test.reshape(X_test.shape[0],28,28,1)"
      ],
      "metadata": {
        "id": "p4MQ5AMP8pc_"
      },
      "execution_count": null,
      "outputs": []
    },
    {
      "cell_type": "code",
      "source": [
        "X_train.shape"
      ],
      "metadata": {
        "colab": {
          "base_uri": "https://localhost:8080/"
        },
        "id": "IdlezxDb-J92",
        "outputId": "f3025a6d-ff2c-40ed-f4c3-634a79cd16b8"
      },
      "execution_count": null,
      "outputs": [
        {
          "output_type": "execute_result",
          "data": {
            "text/plain": [
              "(60000, 28, 28, 1)"
            ]
          },
          "metadata": {},
          "execution_count": 24
        }
      ]
    },
    {
      "cell_type": "code",
      "source": [
        "# alexnet model\n",
        "alexnet_model = tf.keras.Sequential([\n",
        "    tf.keras.layers.Conv2D(48,(3,3), activation='relu', padding='same', input_shape=(28,28,1)),\n",
        "    tf.keras.layers.MaxPooling2D(2,2),\n",
        "    tf.keras.layers.Conv2D(128,(3,3), activation='relu', padding='same'),\n",
        "    tf.keras.layers.MaxPooling2D(2,2),\n",
        "    tf.keras.layers.Conv2D(192, (3,3), activation='relu', padding='same'),\n",
        "    tf.keras.layers.Conv2D(192, (3,3), activation='relu', padding='same'),\n",
        "    tf.keras.layers.Conv2D(128, (3,3), activation='relu', padding='same'),\n",
        "    tf.keras.layers.MaxPooling2D(2,2),\n",
        "    tf.keras.layers.Flatten(),\n",
        "    tf.keras.layers.Dense(1024, activation='relu'),\n",
        "    tf.keras.layers.Dropout(0.5),\n",
        "    tf.keras.layers.Dense(1024, activation='relu'),\n",
        "    tf.keras.layers.Dropout(0.5),\n",
        "    tf.keras.layers.Dense(10, activation='softmax')\n",
        "]\n",
        ")"
      ],
      "metadata": {
        "id": "NC9_q7h_-NRz"
      },
      "execution_count": null,
      "outputs": []
    },
    {
      "cell_type": "code",
      "source": [
        "alexnet_model.compile(optimizer='adam', loss='categorical_crossentropy', metrics=['accuracy'])\n",
        "alexnet_model.summary()"
      ],
      "metadata": {
        "colab": {
          "base_uri": "https://localhost:8080/"
        },
        "id": "cuED67aL-exF",
        "outputId": "bf85feaf-bf00-4320-a186-225364ccd58f"
      },
      "execution_count": null,
      "outputs": [
        {
          "output_type": "stream",
          "name": "stdout",
          "text": [
            "Model: \"sequential\"\n",
            "_________________________________________________________________\n",
            " Layer (type)                Output Shape              Param #   \n",
            "=================================================================\n",
            " conv2d (Conv2D)             (None, 28, 28, 48)        480       \n",
            "                                                                 \n",
            " max_pooling2d (MaxPooling2  (None, 14, 14, 48)        0         \n",
            " D)                                                              \n",
            "                                                                 \n",
            " conv2d_1 (Conv2D)           (None, 14, 14, 128)       55424     \n",
            "                                                                 \n",
            " max_pooling2d_1 (MaxPoolin  (None, 7, 7, 128)         0         \n",
            " g2D)                                                            \n",
            "                                                                 \n",
            " conv2d_2 (Conv2D)           (None, 7, 7, 192)         221376    \n",
            "                                                                 \n",
            " conv2d_3 (Conv2D)           (None, 7, 7, 192)         331968    \n",
            "                                                                 \n",
            " conv2d_4 (Conv2D)           (None, 7, 7, 128)         221312    \n",
            "                                                                 \n",
            " max_pooling2d_2 (MaxPoolin  (None, 3, 3, 128)         0         \n",
            " g2D)                                                            \n",
            "                                                                 \n",
            " flatten (Flatten)           (None, 1152)              0         \n",
            "                                                                 \n",
            " dense (Dense)               (None, 1024)              1180672   \n",
            "                                                                 \n",
            " dropout (Dropout)           (None, 1024)              0         \n",
            "                                                                 \n",
            " dense_1 (Dense)             (None, 1024)              1049600   \n",
            "                                                                 \n",
            " dropout_1 (Dropout)         (None, 1024)              0         \n",
            "                                                                 \n",
            " dense_2 (Dense)             (None, 10)                10250     \n",
            "                                                                 \n",
            "=================================================================\n",
            "Total params: 3071082 (11.72 MB)\n",
            "Trainable params: 3071082 (11.72 MB)\n",
            "Non-trainable params: 0 (0.00 Byte)\n",
            "_________________________________________________________________\n"
          ]
        }
      ]
    },
    {
      "cell_type": "code",
      "source": [
        "alexnet_history = alexnet_model.fit(\n",
        "    X_train, y_train,\n",
        "    epochs = 10,\n",
        "    validation_data=( X_test, y_test),\n",
        "    batch_size=64\n",
        ")"
      ],
      "metadata": {
        "colab": {
          "base_uri": "https://localhost:8080/"
        },
        "id": "GT007YmX-qmy",
        "outputId": "a4db8850-e0e8-4064-dd7e-fe69952a6375"
      },
      "execution_count": null,
      "outputs": [
        {
          "output_type": "stream",
          "name": "stdout",
          "text": [
            "Epoch 1/10\n",
            "938/938 [==============================] - 579s 616ms/step - loss: nan - accuracy: 0.1006 - val_loss: nan - val_accuracy: 0.0938\n",
            "Epoch 2/10\n",
            "938/938 [==============================] - 560s 597ms/step - loss: nan - accuracy: 0.0991 - val_loss: nan - val_accuracy: 0.0938\n",
            "Epoch 3/10\n",
            "938/938 [==============================] - 519s 553ms/step - loss: nan - accuracy: 0.0991 - val_loss: nan - val_accuracy: 0.0938\n",
            "Epoch 4/10\n",
            "938/938 [==============================] - 508s 542ms/step - loss: nan - accuracy: 0.0991 - val_loss: nan - val_accuracy: 0.0938\n",
            "Epoch 5/10\n",
            "938/938 [==============================] - 507s 541ms/step - loss: nan - accuracy: 0.0991 - val_loss: nan - val_accuracy: 0.0938\n",
            "Epoch 6/10\n",
            "938/938 [==============================] - 506s 540ms/step - loss: nan - accuracy: 0.0991 - val_loss: nan - val_accuracy: 0.0938\n",
            "Epoch 7/10\n",
            "933/938 [============================>.] - ETA: 2s - loss: nan - accuracy: 0.0991"
          ]
        }
      ]
    },
    {
      "cell_type": "code",
      "source": [
        "# Custom Model of CNN\n",
        "## 32 is random number, 3x3 can be change as required\n",
        "\n",
        "custom_model = tf.keras.Sequential([\n",
        "    tf.keras.layers.Conv2D(32, (3,3), activation='relu', input_shape=(28,28,1)),\n",
        "    tf.keras.layers.MaxPooling2D(2,2),\n",
        "    tf.keras.layers.Conv2D(64, (3,3), activation='relu'),\n",
        "    tf.keras.layers.MaxPooling2D(2,2),\n",
        "    tf.keras.layers.Conv2D(128, (3,3), activation='relu'),\n",
        "    tf.keras.layers.Flatten(),\n",
        "    tf.keras.layers.Dense(128, activation='relu'),\n",
        "    tf.keras.layers.Dense(10, activation='softmax')\n",
        "])"
      ],
      "metadata": {
        "id": "Nq_q0rnM_528"
      },
      "execution_count": null,
      "outputs": []
    },
    {
      "cell_type": "code",
      "source": [
        "custom_model.compile(optimizer='adam', loss='categorical_crossentropy', metrics=['accuracy'])\n",
        "custom_model_history = custom_model.fit(\n",
        "    X_train, y_train,\n",
        "    epochs = 10,\n",
        "    validation_data=( X_test, y_test),\n",
        "    batch_size=64)"
      ],
      "metadata": {
        "id": "iHQ4lKVr_rx5"
      },
      "execution_count": null,
      "outputs": []
    }
  ]
}