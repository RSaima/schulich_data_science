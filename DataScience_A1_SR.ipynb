{
 "cells": [
  {
   "attachments": {},
   "cell_type": "markdown",
   "metadata": {},
   "source": [
    "Assignment 1: Descriptive Statistics and Probability Theory\n",
    "\n",
    "- Task is to clean the data as you see fit, \n",
    "- and conduct exploratory analysis which will help the company build a sales strategy for the following year.\n",
    "\n",
    "In addition to the analysis,  following questions responses are added as marked down in the end\n",
    "\n",
    "1) What conclusions can you draw about sales performance of various products and regions?\n",
    "2) What recommendations do you have for the business?\n",
    "3) Describe your data cleaning approach. How and why did you decide on which cleaning techniques to use?"
   ]
  },
  {
   "cell_type": "code",
   "execution_count": 1,
   "metadata": {},
   "outputs": [],
   "source": [
    "import pandas as pd\n",
    "import numpy as np\n",
    "import matplotlib.pyplot as plt\n",
    "import seaborn as sns"
   ]
  },
  {
   "attachments": {},
   "cell_type": "markdown",
   "metadata": {},
   "source": [
    "Importing Sales Data file from local source"
   ]
  },
  {
   "cell_type": "code",
   "execution_count": 2,
   "metadata": {},
   "outputs": [],
   "source": [
    "df2 = pd.read_csv('C:/Users/Saima Rafi/Desktop/York/Data Science/Assignment/sales_data.csv')"
   ]
  },
  {
   "attachments": {},
   "cell_type": "markdown",
   "metadata": {},
   "source": [
    "To view the dataset"
   ]
  },
  {
   "cell_type": "code",
   "execution_count": 3,
   "metadata": {},
   "outputs": [
    {
     "data": {
      "text/html": [
       "<div>\n",
       "<style scoped>\n",
       "    .dataframe tbody tr th:only-of-type {\n",
       "        vertical-align: middle;\n",
       "    }\n",
       "\n",
       "    .dataframe tbody tr th {\n",
       "        vertical-align: top;\n",
       "    }\n",
       "\n",
       "    .dataframe thead th {\n",
       "        text-align: right;\n",
       "    }\n",
       "</style>\n",
       "<table border=\"1\" class=\"dataframe\">\n",
       "  <thead>\n",
       "    <tr style=\"text-align: right;\">\n",
       "      <th></th>\n",
       "      <th>Product</th>\n",
       "      <th>Region</th>\n",
       "      <th>Price</th>\n",
       "      <th>Units Sold</th>\n",
       "      <th>Sale Date</th>\n",
       "    </tr>\n",
       "  </thead>\n",
       "  <tbody>\n",
       "    <tr>\n",
       "      <th>0</th>\n",
       "      <td>NaN</td>\n",
       "      <td>Region_6</td>\n",
       "      <td>75.96</td>\n",
       "      <td>10.0</td>\n",
       "      <td>2022-01-01</td>\n",
       "    </tr>\n",
       "    <tr>\n",
       "      <th>1</th>\n",
       "      <td>NaN</td>\n",
       "      <td>Region_1</td>\n",
       "      <td>175.78</td>\n",
       "      <td>8.0</td>\n",
       "      <td>2022-01-02</td>\n",
       "    </tr>\n",
       "    <tr>\n",
       "      <th>2</th>\n",
       "      <td>Product_46</td>\n",
       "      <td>Region_3</td>\n",
       "      <td>20.43</td>\n",
       "      <td>12.0</td>\n",
       "      <td>2022-01-03</td>\n",
       "    </tr>\n",
       "    <tr>\n",
       "      <th>3</th>\n",
       "      <td>Product_36</td>\n",
       "      <td>Region_1</td>\n",
       "      <td>12.77</td>\n",
       "      <td>10.0</td>\n",
       "      <td>2022-01-04</td>\n",
       "    </tr>\n",
       "    <tr>\n",
       "      <th>4</th>\n",
       "      <td>Product_17</td>\n",
       "      <td>Region_6</td>\n",
       "      <td>125.69</td>\n",
       "      <td>6.0</td>\n",
       "      <td>2022-01-05</td>\n",
       "    </tr>\n",
       "    <tr>\n",
       "      <th>...</th>\n",
       "      <td>...</td>\n",
       "      <td>...</td>\n",
       "      <td>...</td>\n",
       "      <td>...</td>\n",
       "      <td>...</td>\n",
       "    </tr>\n",
       "    <tr>\n",
       "      <th>1045</th>\n",
       "      <td>Product_45</td>\n",
       "      <td>Region_7</td>\n",
       "      <td>78.69</td>\n",
       "      <td>8.0</td>\n",
       "      <td>2022-07-28</td>\n",
       "    </tr>\n",
       "    <tr>\n",
       "      <th>1046</th>\n",
       "      <td>Product_1</td>\n",
       "      <td>Region_6</td>\n",
       "      <td>NaN</td>\n",
       "      <td>8.0</td>\n",
       "      <td>2022-08-02</td>\n",
       "    </tr>\n",
       "    <tr>\n",
       "      <th>1047</th>\n",
       "      <td>Product_17</td>\n",
       "      <td>Region_2</td>\n",
       "      <td>114.37</td>\n",
       "      <td>11.0</td>\n",
       "      <td>2023-12-18</td>\n",
       "    </tr>\n",
       "    <tr>\n",
       "      <th>1048</th>\n",
       "      <td>NaN</td>\n",
       "      <td>Region_8</td>\n",
       "      <td>NaN</td>\n",
       "      <td>5.0</td>\n",
       "      <td>2023-12-27</td>\n",
       "    </tr>\n",
       "    <tr>\n",
       "      <th>1049</th>\n",
       "      <td>Product_16</td>\n",
       "      <td>Region_2</td>\n",
       "      <td>69.30</td>\n",
       "      <td>8.0</td>\n",
       "      <td>2024-02-23</td>\n",
       "    </tr>\n",
       "  </tbody>\n",
       "</table>\n",
       "<p>1050 rows × 5 columns</p>\n",
       "</div>"
      ],
      "text/plain": [
       "         Product    Region   Price  Units Sold   Sale Date\n",
       "0            NaN  Region_6   75.96        10.0  2022-01-01\n",
       "1            NaN  Region_1  175.78         8.0  2022-01-02\n",
       "2     Product_46  Region_3   20.43        12.0  2022-01-03\n",
       "3     Product_36  Region_1   12.77        10.0  2022-01-04\n",
       "4     Product_17  Region_6  125.69         6.0  2022-01-05\n",
       "...          ...       ...     ...         ...         ...\n",
       "1045  Product_45  Region_7   78.69         8.0  2022-07-28\n",
       "1046   Product_1  Region_6     NaN         8.0  2022-08-02\n",
       "1047  Product_17  Region_2  114.37        11.0  2023-12-18\n",
       "1048         NaN  Region_8     NaN         5.0  2023-12-27\n",
       "1049  Product_16  Region_2   69.30         8.0  2024-02-23\n",
       "\n",
       "[1050 rows x 5 columns]"
      ]
     },
     "execution_count": 3,
     "metadata": {},
     "output_type": "execute_result"
    }
   ],
   "source": [
    "df2"
   ]
  },
  {
   "attachments": {},
   "cell_type": "markdown",
   "metadata": {},
   "source": [
    "Updating headers  name in below context where space was available so the same can be use easily and accessible in code"
   ]
  },
  {
   "cell_type": "code",
   "execution_count": 4,
   "metadata": {},
   "outputs": [
    {
     "data": {
      "text/html": [
       "<div>\n",
       "<style scoped>\n",
       "    .dataframe tbody tr th:only-of-type {\n",
       "        vertical-align: middle;\n",
       "    }\n",
       "\n",
       "    .dataframe tbody tr th {\n",
       "        vertical-align: top;\n",
       "    }\n",
       "\n",
       "    .dataframe thead th {\n",
       "        text-align: right;\n",
       "    }\n",
       "</style>\n",
       "<table border=\"1\" class=\"dataframe\">\n",
       "  <thead>\n",
       "    <tr style=\"text-align: right;\">\n",
       "      <th></th>\n",
       "      <th>Product</th>\n",
       "      <th>Region</th>\n",
       "      <th>Price</th>\n",
       "      <th>Units_Sold</th>\n",
       "      <th>Sale_Date</th>\n",
       "    </tr>\n",
       "  </thead>\n",
       "  <tbody>\n",
       "    <tr>\n",
       "      <th>0</th>\n",
       "      <td>NaN</td>\n",
       "      <td>Region_6</td>\n",
       "      <td>75.96</td>\n",
       "      <td>10.0</td>\n",
       "      <td>2022-01-01</td>\n",
       "    </tr>\n",
       "    <tr>\n",
       "      <th>1</th>\n",
       "      <td>NaN</td>\n",
       "      <td>Region_1</td>\n",
       "      <td>175.78</td>\n",
       "      <td>8.0</td>\n",
       "      <td>2022-01-02</td>\n",
       "    </tr>\n",
       "    <tr>\n",
       "      <th>2</th>\n",
       "      <td>Product_46</td>\n",
       "      <td>Region_3</td>\n",
       "      <td>20.43</td>\n",
       "      <td>12.0</td>\n",
       "      <td>2022-01-03</td>\n",
       "    </tr>\n",
       "    <tr>\n",
       "      <th>3</th>\n",
       "      <td>Product_36</td>\n",
       "      <td>Region_1</td>\n",
       "      <td>12.77</td>\n",
       "      <td>10.0</td>\n",
       "      <td>2022-01-04</td>\n",
       "    </tr>\n",
       "    <tr>\n",
       "      <th>4</th>\n",
       "      <td>Product_17</td>\n",
       "      <td>Region_6</td>\n",
       "      <td>125.69</td>\n",
       "      <td>6.0</td>\n",
       "      <td>2022-01-05</td>\n",
       "    </tr>\n",
       "    <tr>\n",
       "      <th>...</th>\n",
       "      <td>...</td>\n",
       "      <td>...</td>\n",
       "      <td>...</td>\n",
       "      <td>...</td>\n",
       "      <td>...</td>\n",
       "    </tr>\n",
       "    <tr>\n",
       "      <th>1045</th>\n",
       "      <td>Product_45</td>\n",
       "      <td>Region_7</td>\n",
       "      <td>78.69</td>\n",
       "      <td>8.0</td>\n",
       "      <td>2022-07-28</td>\n",
       "    </tr>\n",
       "    <tr>\n",
       "      <th>1046</th>\n",
       "      <td>Product_1</td>\n",
       "      <td>Region_6</td>\n",
       "      <td>NaN</td>\n",
       "      <td>8.0</td>\n",
       "      <td>2022-08-02</td>\n",
       "    </tr>\n",
       "    <tr>\n",
       "      <th>1047</th>\n",
       "      <td>Product_17</td>\n",
       "      <td>Region_2</td>\n",
       "      <td>114.37</td>\n",
       "      <td>11.0</td>\n",
       "      <td>2023-12-18</td>\n",
       "    </tr>\n",
       "    <tr>\n",
       "      <th>1048</th>\n",
       "      <td>NaN</td>\n",
       "      <td>Region_8</td>\n",
       "      <td>NaN</td>\n",
       "      <td>5.0</td>\n",
       "      <td>2023-12-27</td>\n",
       "    </tr>\n",
       "    <tr>\n",
       "      <th>1049</th>\n",
       "      <td>Product_16</td>\n",
       "      <td>Region_2</td>\n",
       "      <td>69.30</td>\n",
       "      <td>8.0</td>\n",
       "      <td>2024-02-23</td>\n",
       "    </tr>\n",
       "  </tbody>\n",
       "</table>\n",
       "<p>1050 rows × 5 columns</p>\n",
       "</div>"
      ],
      "text/plain": [
       "         Product    Region   Price  Units_Sold   Sale_Date\n",
       "0            NaN  Region_6   75.96        10.0  2022-01-01\n",
       "1            NaN  Region_1  175.78         8.0  2022-01-02\n",
       "2     Product_46  Region_3   20.43        12.0  2022-01-03\n",
       "3     Product_36  Region_1   12.77        10.0  2022-01-04\n",
       "4     Product_17  Region_6  125.69         6.0  2022-01-05\n",
       "...          ...       ...     ...         ...         ...\n",
       "1045  Product_45  Region_7   78.69         8.0  2022-07-28\n",
       "1046   Product_1  Region_6     NaN         8.0  2022-08-02\n",
       "1047  Product_17  Region_2  114.37        11.0  2023-12-18\n",
       "1048         NaN  Region_8     NaN         5.0  2023-12-27\n",
       "1049  Product_16  Region_2   69.30         8.0  2024-02-23\n",
       "\n",
       "[1050 rows x 5 columns]"
      ]
     },
     "execution_count": 4,
     "metadata": {},
     "output_type": "execute_result"
    }
   ],
   "source": [
    "df2=df2.rename(columns={'Units Sold':'Units_Sold'})\n",
    "df2=df2.rename(columns={'Sale Date':'Sale_Date'})\n",
    "df2"
   ]
  },
  {
   "attachments": {},
   "cell_type": "markdown",
   "metadata": {},
   "source": [
    "info()  is used to understand data quality type and statistics, as per below it is reflected that there are blank fileds available in Product, Region, Price and Units_sold column"
   ]
  },
  {
   "cell_type": "code",
   "execution_count": 5,
   "metadata": {},
   "outputs": [
    {
     "name": "stdout",
     "output_type": "stream",
     "text": [
      "<class 'pandas.core.frame.DataFrame'>\n",
      "RangeIndex: 1050 entries, 0 to 1049\n",
      "Data columns (total 5 columns):\n",
      " #   Column      Non-Null Count  Dtype  \n",
      "---  ------      --------------  -----  \n",
      " 0   Product     947 non-null    object \n",
      " 1   Region      946 non-null    object \n",
      " 2   Price       945 non-null    float64\n",
      " 3   Units_Sold  946 non-null    float64\n",
      " 4   Sale_Date   1050 non-null   object \n",
      "dtypes: float64(2), object(3)\n",
      "memory usage: 41.1+ KB\n"
     ]
    }
   ],
   "source": [
    "df2.info()"
   ]
  },
  {
   "cell_type": "code",
   "execution_count": 6,
   "metadata": {},
   "outputs": [
    {
     "data": {
      "text/html": [
       "<div>\n",
       "<style scoped>\n",
       "    .dataframe tbody tr th:only-of-type {\n",
       "        vertical-align: middle;\n",
       "    }\n",
       "\n",
       "    .dataframe tbody tr th {\n",
       "        vertical-align: top;\n",
       "    }\n",
       "\n",
       "    .dataframe thead th {\n",
       "        text-align: right;\n",
       "    }\n",
       "</style>\n",
       "<table border=\"1\" class=\"dataframe\">\n",
       "  <thead>\n",
       "    <tr style=\"text-align: right;\">\n",
       "      <th></th>\n",
       "      <th>Price</th>\n",
       "      <th>Units_Sold</th>\n",
       "    </tr>\n",
       "  </thead>\n",
       "  <tbody>\n",
       "    <tr>\n",
       "      <th>count</th>\n",
       "      <td>945.000000</td>\n",
       "      <td>946.000000</td>\n",
       "    </tr>\n",
       "    <tr>\n",
       "      <th>mean</th>\n",
       "      <td>107.598688</td>\n",
       "      <td>10.048626</td>\n",
       "    </tr>\n",
       "    <tr>\n",
       "      <th>std</th>\n",
       "      <td>124.020322</td>\n",
       "      <td>3.172261</td>\n",
       "    </tr>\n",
       "    <tr>\n",
       "      <th>min</th>\n",
       "      <td>0.200000</td>\n",
       "      <td>2.000000</td>\n",
       "    </tr>\n",
       "    <tr>\n",
       "      <th>25%</th>\n",
       "      <td>29.430000</td>\n",
       "      <td>8.000000</td>\n",
       "    </tr>\n",
       "    <tr>\n",
       "      <th>50%</th>\n",
       "      <td>78.130000</td>\n",
       "      <td>10.000000</td>\n",
       "    </tr>\n",
       "    <tr>\n",
       "      <th>75%</th>\n",
       "      <td>142.570000</td>\n",
       "      <td>12.000000</td>\n",
       "    </tr>\n",
       "    <tr>\n",
       "      <th>max</th>\n",
       "      <td>2143.300000</td>\n",
       "      <td>22.000000</td>\n",
       "    </tr>\n",
       "  </tbody>\n",
       "</table>\n",
       "</div>"
      ],
      "text/plain": [
       "             Price  Units_Sold\n",
       "count   945.000000  946.000000\n",
       "mean    107.598688   10.048626\n",
       "std     124.020322    3.172261\n",
       "min       0.200000    2.000000\n",
       "25%      29.430000    8.000000\n",
       "50%      78.130000   10.000000\n",
       "75%     142.570000   12.000000\n",
       "max    2143.300000   22.000000"
      ]
     },
     "execution_count": 6,
     "metadata": {},
     "output_type": "execute_result"
    }
   ],
   "source": [
    "df2.describe()"
   ]
  },
  {
   "cell_type": "code",
   "execution_count": 7,
   "metadata": {},
   "outputs": [
    {
     "data": {
      "text/plain": [
       "Product       1050\n",
       "Region        1050\n",
       "Price         1050\n",
       "Units_Sold    1050\n",
       "Sale_Date     1050\n",
       "dtype: int64"
      ]
     },
     "execution_count": 7,
     "metadata": {},
     "output_type": "execute_result"
    }
   ],
   "source": [
    "df2.isna().count()"
   ]
  },
  {
   "attachments": {},
   "cell_type": "markdown",
   "metadata": {},
   "source": [
    "Visulaizing the data to identify issues and outlier"
   ]
  },
  {
   "cell_type": "code",
   "execution_count": 11,
   "metadata": {},
   "outputs": [
    {
     "data": {
      "text/plain": [
       "<Axes: xlabel='Price', ylabel='Count'>"
      ]
     },
     "execution_count": 11,
     "metadata": {},
     "output_type": "execute_result"
    },
    {
     "data": {
      "image/png": "[encoded data removed]",
      "text/plain": [
       "<Figure size 640x480 with 1 Axes>"
      ]
     },
     "metadata": {},
     "output_type": "display_data"
    }
   ],
   "source": [
    "sns.histplot(df2.Price)"
   ]
  },
  {
   "cell_type": "code",
   "execution_count": 12,
   "metadata": {},
   "outputs": [
    {
     "data": {
      "text/plain": [
       "<Axes: xlabel='Units_Sold', ylabel='Count'>"
      ]
     },
     "execution_count": 12,
     "metadata": {},
     "output_type": "execute_result"
    },
    {
     "data": {
      "image/png": "[encoded data removed]",
      "text/plain": [
       "<Figure size 640x480 with 1 Axes>"
      ]
     },
     "metadata": {},
     "output_type": "display_data"
    }
   ],
   "source": [
    "sns.histplot(df2.Units_Sold)"
   ]
  },
  {
   "attachments": {},
   "cell_type": "markdown",
   "metadata": {},
   "source": [
    "below boxplot are vizulaized on Price and Units_Sold filed to view if any outlier exisits"
   ]
  },
  {
   "cell_type": "code",
   "execution_count": 9,
   "metadata": {},
   "outputs": [
    {
     "data": {
      "text/plain": [
       "<Axes: >"
      ]
     },
     "execution_count": 9,
     "metadata": {},
     "output_type": "execute_result"
    },
    {
     "data": {
      "image/png": "[encoded data removed]",
      "text/plain": [
       "<Figure size 640x480 with 1 Axes>"
      ]
     },
     "metadata": {},
     "output_type": "display_data"
    }
   ],
   "source": [
    "sns.boxplot(df2.Price)"
   ]
  },
  {
   "cell_type": "code",
   "execution_count": 10,
   "metadata": {},
   "outputs": [
    {
     "data": {
      "text/plain": [
       "<Axes: >"
      ]
     },
     "execution_count": 10,
     "metadata": {},
     "output_type": "execute_result"
    },
    {
     "data": {
      "image/png": "[encoded data removed]",
      "text/plain": [
       "<Figure size 640x480 with 1 Axes>"
      ]
     },
     "metadata": {},
     "output_type": "display_data"
    }
   ],
   "source": [
    "sns.boxplot(df2.Units_Sold)"
   ]
  },
  {
   "cell_type": "code",
   "execution_count": 13,
   "metadata": {},
   "outputs": [
    {
     "name": "stdout",
     "output_type": "stream",
     "text": [
      "2143.3\n"
     ]
    }
   ],
   "source": [
    "max_values = df2.Price.max()\n",
    "print(max_values)"
   ]
  },
  {
   "attachments": {},
   "cell_type": "markdown",
   "metadata": {},
   "source": [
    "Copying dataframe in df3 as data will be adjusted for further analysis"
   ]
  },
  {
   "cell_type": "code",
   "execution_count": 14,
   "metadata": {},
   "outputs": [],
   "source": [
    "df3=df2"
   ]
  },
  {
   "attachments": {},
   "cell_type": "markdown",
   "metadata": {},
   "source": [
    "Replacing missing values in Price and Units_Sold column by mean and median of respective column"
   ]
  },
  {
   "cell_type": "code",
   "execution_count": 15,
   "metadata": {},
   "outputs": [],
   "source": [
    "df3['Price'] = df3['Price'].fillna(df3['Price'].mean())\n",
    "df3['Units_Sold'] = df3['Units_Sold'].fillna(df3['Units_Sold'].median())"
   ]
  },
  {
   "attachments": {},
   "cell_type": "markdown",
   "metadata": {},
   "source": [
    "Dropping the maximum value from Price column"
   ]
  },
  {
   "cell_type": "code",
   "execution_count": 16,
   "metadata": {},
   "outputs": [
    {
     "data": {
      "text/html": [
       "<div>\n",
       "<style scoped>\n",
       "    .dataframe tbody tr th:only-of-type {\n",
       "        vertical-align: middle;\n",
       "    }\n",
       "\n",
       "    .dataframe tbody tr th {\n",
       "        vertical-align: top;\n",
       "    }\n",
       "\n",
       "    .dataframe thead th {\n",
       "        text-align: right;\n",
       "    }\n",
       "</style>\n",
       "<table border=\"1\" class=\"dataframe\">\n",
       "  <thead>\n",
       "    <tr style=\"text-align: right;\">\n",
       "      <th></th>\n",
       "      <th>Product</th>\n",
       "      <th>Region</th>\n",
       "      <th>Price</th>\n",
       "      <th>Units_Sold</th>\n",
       "      <th>Sale_Date</th>\n",
       "    </tr>\n",
       "  </thead>\n",
       "  <tbody>\n",
       "    <tr>\n",
       "      <th>0</th>\n",
       "      <td>NaN</td>\n",
       "      <td>Region_6</td>\n",
       "      <td>75.960000</td>\n",
       "      <td>10.0</td>\n",
       "      <td>2022-01-01</td>\n",
       "    </tr>\n",
       "    <tr>\n",
       "      <th>1</th>\n",
       "      <td>NaN</td>\n",
       "      <td>Region_1</td>\n",
       "      <td>175.780000</td>\n",
       "      <td>8.0</td>\n",
       "      <td>2022-01-02</td>\n",
       "    </tr>\n",
       "    <tr>\n",
       "      <th>2</th>\n",
       "      <td>Product_46</td>\n",
       "      <td>Region_3</td>\n",
       "      <td>20.430000</td>\n",
       "      <td>12.0</td>\n",
       "      <td>2022-01-03</td>\n",
       "    </tr>\n",
       "    <tr>\n",
       "      <th>3</th>\n",
       "      <td>Product_36</td>\n",
       "      <td>Region_1</td>\n",
       "      <td>12.770000</td>\n",
       "      <td>10.0</td>\n",
       "      <td>2022-01-04</td>\n",
       "    </tr>\n",
       "    <tr>\n",
       "      <th>4</th>\n",
       "      <td>Product_17</td>\n",
       "      <td>Region_6</td>\n",
       "      <td>125.690000</td>\n",
       "      <td>6.0</td>\n",
       "      <td>2022-01-05</td>\n",
       "    </tr>\n",
       "    <tr>\n",
       "      <th>...</th>\n",
       "      <td>...</td>\n",
       "      <td>...</td>\n",
       "      <td>...</td>\n",
       "      <td>...</td>\n",
       "      <td>...</td>\n",
       "    </tr>\n",
       "    <tr>\n",
       "      <th>1045</th>\n",
       "      <td>Product_45</td>\n",
       "      <td>Region_7</td>\n",
       "      <td>78.690000</td>\n",
       "      <td>8.0</td>\n",
       "      <td>2022-07-28</td>\n",
       "    </tr>\n",
       "    <tr>\n",
       "      <th>1046</th>\n",
       "      <td>Product_1</td>\n",
       "      <td>Region_6</td>\n",
       "      <td>107.598688</td>\n",
       "      <td>8.0</td>\n",
       "      <td>2022-08-02</td>\n",
       "    </tr>\n",
       "    <tr>\n",
       "      <th>1047</th>\n",
       "      <td>Product_17</td>\n",
       "      <td>Region_2</td>\n",
       "      <td>114.370000</td>\n",
       "      <td>11.0</td>\n",
       "      <td>2023-12-18</td>\n",
       "    </tr>\n",
       "    <tr>\n",
       "      <th>1048</th>\n",
       "      <td>NaN</td>\n",
       "      <td>Region_8</td>\n",
       "      <td>107.598688</td>\n",
       "      <td>5.0</td>\n",
       "      <td>2023-12-27</td>\n",
       "    </tr>\n",
       "    <tr>\n",
       "      <th>1049</th>\n",
       "      <td>Product_16</td>\n",
       "      <td>Region_2</td>\n",
       "      <td>69.300000</td>\n",
       "      <td>8.0</td>\n",
       "      <td>2024-02-23</td>\n",
       "    </tr>\n",
       "  </tbody>\n",
       "</table>\n",
       "<p>1049 rows × 5 columns</p>\n",
       "</div>"
      ],
      "text/plain": [
       "         Product    Region       Price  Units_Sold   Sale_Date\n",
       "0            NaN  Region_6   75.960000        10.0  2022-01-01\n",
       "1            NaN  Region_1  175.780000         8.0  2022-01-02\n",
       "2     Product_46  Region_3   20.430000        12.0  2022-01-03\n",
       "3     Product_36  Region_1   12.770000        10.0  2022-01-04\n",
       "4     Product_17  Region_6  125.690000         6.0  2022-01-05\n",
       "...          ...       ...         ...         ...         ...\n",
       "1045  Product_45  Region_7   78.690000         8.0  2022-07-28\n",
       "1046   Product_1  Region_6  107.598688         8.0  2022-08-02\n",
       "1047  Product_17  Region_2  114.370000        11.0  2023-12-18\n",
       "1048         NaN  Region_8  107.598688         5.0  2023-12-27\n",
       "1049  Product_16  Region_2   69.300000         8.0  2024-02-23\n",
       "\n",
       "[1049 rows x 5 columns]"
      ]
     },
     "execution_count": 16,
     "metadata": {},
     "output_type": "execute_result"
    }
   ],
   "source": [
    "df3 = df3.loc[df3['Price']!=df3['Price'].max()]\n",
    "df3"
   ]
  },
  {
   "cell_type": "code",
   "execution_count": 17,
   "metadata": {},
   "outputs": [
    {
     "name": "stdout",
     "output_type": "stream",
     "text": [
      "<class 'pandas.core.frame.DataFrame'>\n",
      "Index: 1049 entries, 0 to 1049\n",
      "Data columns (total 5 columns):\n",
      " #   Column      Non-Null Count  Dtype  \n",
      "---  ------      --------------  -----  \n",
      " 0   Product     946 non-null    object \n",
      " 1   Region      945 non-null    object \n",
      " 2   Price       1049 non-null   float64\n",
      " 3   Units_Sold  1049 non-null   float64\n",
      " 4   Sale_Date   1049 non-null   object \n",
      "dtypes: float64(2), object(3)\n",
      "memory usage: 49.2+ KB\n"
     ]
    },
    {
     "data": {
      "text/html": [
       "<div>\n",
       "<style scoped>\n",
       "    .dataframe tbody tr th:only-of-type {\n",
       "        vertical-align: middle;\n",
       "    }\n",
       "\n",
       "    .dataframe tbody tr th {\n",
       "        vertical-align: top;\n",
       "    }\n",
       "\n",
       "    .dataframe thead th {\n",
       "        text-align: right;\n",
       "    }\n",
       "</style>\n",
       "<table border=\"1\" class=\"dataframe\">\n",
       "  <thead>\n",
       "    <tr style=\"text-align: right;\">\n",
       "      <th></th>\n",
       "      <th>Price</th>\n",
       "      <th>Units_Sold</th>\n",
       "    </tr>\n",
       "  </thead>\n",
       "  <tbody>\n",
       "    <tr>\n",
       "      <th>count</th>\n",
       "      <td>1049.000000</td>\n",
       "      <td>1049.000000</td>\n",
       "    </tr>\n",
       "    <tr>\n",
       "      <th>mean</th>\n",
       "      <td>105.658076</td>\n",
       "      <td>10.048618</td>\n",
       "    </tr>\n",
       "    <tr>\n",
       "      <th>std</th>\n",
       "      <td>99.481824</td>\n",
       "      <td>3.008341</td>\n",
       "    </tr>\n",
       "    <tr>\n",
       "      <th>min</th>\n",
       "      <td>0.200000</td>\n",
       "      <td>2.000000</td>\n",
       "    </tr>\n",
       "    <tr>\n",
       "      <th>25%</th>\n",
       "      <td>33.850000</td>\n",
       "      <td>8.000000</td>\n",
       "    </tr>\n",
       "    <tr>\n",
       "      <th>50%</th>\n",
       "      <td>88.440000</td>\n",
       "      <td>10.000000</td>\n",
       "    </tr>\n",
       "    <tr>\n",
       "      <th>75%</th>\n",
       "      <td>133.150000</td>\n",
       "      <td>12.000000</td>\n",
       "    </tr>\n",
       "    <tr>\n",
       "      <th>max</th>\n",
       "      <td>713.290000</td>\n",
       "      <td>22.000000</td>\n",
       "    </tr>\n",
       "  </tbody>\n",
       "</table>\n",
       "</div>"
      ],
      "text/plain": [
       "             Price   Units_Sold\n",
       "count  1049.000000  1049.000000\n",
       "mean    105.658076    10.048618\n",
       "std      99.481824     3.008341\n",
       "min       0.200000     2.000000\n",
       "25%      33.850000     8.000000\n",
       "50%      88.440000    10.000000\n",
       "75%     133.150000    12.000000\n",
       "max     713.290000    22.000000"
      ]
     },
     "execution_count": 17,
     "metadata": {},
     "output_type": "execute_result"
    }
   ],
   "source": [
    "df3.info()\n",
    "df3.describe()"
   ]
  },
  {
   "attachments": {},
   "cell_type": "markdown",
   "metadata": {},
   "source": [
    "Visualizing the data for further issues and outlier consideration after adjusting Price and Sales_Units column by using mean for NaN and Maximum price drop"
   ]
  },
  {
   "cell_type": "code",
   "execution_count": 18,
   "metadata": {},
   "outputs": [
    {
     "data": {
      "text/plain": [
       "<Axes: xlabel='Price', ylabel='Count'>"
      ]
     },
     "execution_count": 18,
     "metadata": {},
     "output_type": "execute_result"
    },
    {
     "data": {
      "image/png": "[encoded data removed]",
      "text/plain": [
       "<Figure size 640x480 with 1 Axes>"
      ]
     },
     "metadata": {},
     "output_type": "display_data"
    }
   ],
   "source": [
    "sns.histplot(df3.Price)"
   ]
  },
  {
   "cell_type": "code",
   "execution_count": 19,
   "metadata": {},
   "outputs": [
    {
     "data": {
      "text/plain": [
       "<Axes: xlabel='Units_Sold', ylabel='Count'>"
      ]
     },
     "execution_count": 19,
     "metadata": {},
     "output_type": "execute_result"
    },
    {
     "data": {
      "image/png": "[encoded data removed]",
      "text/plain": [
       "<Figure size 640x480 with 1 Axes>"
      ]
     },
     "metadata": {},
     "output_type": "display_data"
    }
   ],
   "source": [
    "sns.histplot(df3.Units_Sold)"
   ]
  },
  {
   "cell_type": "code",
   "execution_count": 20,
   "metadata": {},
   "outputs": [
    {
     "data": {
      "text/plain": [
       "<Axes: >"
      ]
     },
     "execution_count": 20,
     "metadata": {},
     "output_type": "execute_result"
    },
    {
     "data": {
      "image/png": "[encoded data removed]",
      "text/plain": [
       "<Figure size 640x480 with 1 Axes>"
      ]
     },
     "metadata": {},
     "output_type": "display_data"
    }
   ],
   "source": [
    "sns.boxplot(df3.Price)"
   ]
  },
  {
   "cell_type": "code",
   "execution_count": 21,
   "metadata": {},
   "outputs": [
    {
     "data": {
      "text/plain": [
       "<Axes: >"
      ]
     },
     "execution_count": 21,
     "metadata": {},
     "output_type": "execute_result"
    },
    {
     "data": {
      "image/png": "[encoded data removed]",
      "text/plain": [
       "<Figure size 640x480 with 1 Axes>"
      ]
     },
     "metadata": {},
     "output_type": "display_data"
    }
   ],
   "source": [
    "sns.boxplot(df3.Units_Sold)"
   ]
  },
  {
   "attachments": {},
   "cell_type": "markdown",
   "metadata": {},
   "source": [
    "Adding and calculating Sales_Value Column"
   ]
  },
  {
   "cell_type": "code",
   "execution_count": 22,
   "metadata": {},
   "outputs": [],
   "source": [
    "Sales_Values = df3.Price * df3.Units_Sold"
   ]
  },
  {
   "cell_type": "code",
   "execution_count": 23,
   "metadata": {},
   "outputs": [
    {
     "name": "stderr",
     "output_type": "stream",
     "text": [
      "C:\\Users\\Saima Rafi\\AppData\\Local\\Temp\\ipykernel_18404\\4216362870.py:1: SettingWithCopyWarning: \n",
      "A value is trying to be set on a copy of a slice from a DataFrame.\n",
      "Try using .loc[row_indexer,col_indexer] = value instead\n",
      "\n",
      "See the caveats in the documentation: https://pandas.pydata.org/pandas-docs/stable/user_guide/indexing.html#returning-a-view-versus-a-copy\n",
      "  df3['Sales_Value'] = Sales_Values\n"
     ]
    }
   ],
   "source": [
    "df3['Sales_Value'] = Sales_Values"
   ]
  },
  {
   "cell_type": "code",
   "execution_count": 24,
   "metadata": {},
   "outputs": [
    {
     "data": {
      "text/html": [
       "<div>\n",
       "<style scoped>\n",
       "    .dataframe tbody tr th:only-of-type {\n",
       "        vertical-align: middle;\n",
       "    }\n",
       "\n",
       "    .dataframe tbody tr th {\n",
       "        vertical-align: top;\n",
       "    }\n",
       "\n",
       "    .dataframe thead th {\n",
       "        text-align: right;\n",
       "    }\n",
       "</style>\n",
       "<table border=\"1\" class=\"dataframe\">\n",
       "  <thead>\n",
       "    <tr style=\"text-align: right;\">\n",
       "      <th></th>\n",
       "      <th>Product</th>\n",
       "      <th>Region</th>\n",
       "      <th>Price</th>\n",
       "      <th>Units_Sold</th>\n",
       "      <th>Sale_Date</th>\n",
       "      <th>Sales_Value</th>\n",
       "    </tr>\n",
       "  </thead>\n",
       "  <tbody>\n",
       "    <tr>\n",
       "      <th>0</th>\n",
       "      <td>NaN</td>\n",
       "      <td>Region_6</td>\n",
       "      <td>75.960000</td>\n",
       "      <td>10.0</td>\n",
       "      <td>2022-01-01</td>\n",
       "      <td>759.600000</td>\n",
       "    </tr>\n",
       "    <tr>\n",
       "      <th>1</th>\n",
       "      <td>NaN</td>\n",
       "      <td>Region_1</td>\n",
       "      <td>175.780000</td>\n",
       "      <td>8.0</td>\n",
       "      <td>2022-01-02</td>\n",
       "      <td>1406.240000</td>\n",
       "    </tr>\n",
       "    <tr>\n",
       "      <th>2</th>\n",
       "      <td>Product_46</td>\n",
       "      <td>Region_3</td>\n",
       "      <td>20.430000</td>\n",
       "      <td>12.0</td>\n",
       "      <td>2022-01-03</td>\n",
       "      <td>245.160000</td>\n",
       "    </tr>\n",
       "    <tr>\n",
       "      <th>3</th>\n",
       "      <td>Product_36</td>\n",
       "      <td>Region_1</td>\n",
       "      <td>12.770000</td>\n",
       "      <td>10.0</td>\n",
       "      <td>2022-01-04</td>\n",
       "      <td>127.700000</td>\n",
       "    </tr>\n",
       "    <tr>\n",
       "      <th>4</th>\n",
       "      <td>Product_17</td>\n",
       "      <td>Region_6</td>\n",
       "      <td>125.690000</td>\n",
       "      <td>6.0</td>\n",
       "      <td>2022-01-05</td>\n",
       "      <td>754.140000</td>\n",
       "    </tr>\n",
       "    <tr>\n",
       "      <th>...</th>\n",
       "      <td>...</td>\n",
       "      <td>...</td>\n",
       "      <td>...</td>\n",
       "      <td>...</td>\n",
       "      <td>...</td>\n",
       "      <td>...</td>\n",
       "    </tr>\n",
       "    <tr>\n",
       "      <th>1045</th>\n",
       "      <td>Product_45</td>\n",
       "      <td>Region_7</td>\n",
       "      <td>78.690000</td>\n",
       "      <td>8.0</td>\n",
       "      <td>2022-07-28</td>\n",
       "      <td>629.520000</td>\n",
       "    </tr>\n",
       "    <tr>\n",
       "      <th>1046</th>\n",
       "      <td>Product_1</td>\n",
       "      <td>Region_6</td>\n",
       "      <td>107.598688</td>\n",
       "      <td>8.0</td>\n",
       "      <td>2022-08-02</td>\n",
       "      <td>860.789503</td>\n",
       "    </tr>\n",
       "    <tr>\n",
       "      <th>1047</th>\n",
       "      <td>Product_17</td>\n",
       "      <td>Region_2</td>\n",
       "      <td>114.370000</td>\n",
       "      <td>11.0</td>\n",
       "      <td>2023-12-18</td>\n",
       "      <td>1258.070000</td>\n",
       "    </tr>\n",
       "    <tr>\n",
       "      <th>1048</th>\n",
       "      <td>NaN</td>\n",
       "      <td>Region_8</td>\n",
       "      <td>107.598688</td>\n",
       "      <td>5.0</td>\n",
       "      <td>2023-12-27</td>\n",
       "      <td>537.993439</td>\n",
       "    </tr>\n",
       "    <tr>\n",
       "      <th>1049</th>\n",
       "      <td>Product_16</td>\n",
       "      <td>Region_2</td>\n",
       "      <td>69.300000</td>\n",
       "      <td>8.0</td>\n",
       "      <td>2024-02-23</td>\n",
       "      <td>554.400000</td>\n",
       "    </tr>\n",
       "  </tbody>\n",
       "</table>\n",
       "<p>1049 rows × 6 columns</p>\n",
       "</div>"
      ],
      "text/plain": [
       "         Product    Region       Price  Units_Sold   Sale_Date  Sales_Value\n",
       "0            NaN  Region_6   75.960000        10.0  2022-01-01   759.600000\n",
       "1            NaN  Region_1  175.780000         8.0  2022-01-02  1406.240000\n",
       "2     Product_46  Region_3   20.430000        12.0  2022-01-03   245.160000\n",
       "3     Product_36  Region_1   12.770000        10.0  2022-01-04   127.700000\n",
       "4     Product_17  Region_6  125.690000         6.0  2022-01-05   754.140000\n",
       "...          ...       ...         ...         ...         ...          ...\n",
       "1045  Product_45  Region_7   78.690000         8.0  2022-07-28   629.520000\n",
       "1046   Product_1  Region_6  107.598688         8.0  2022-08-02   860.789503\n",
       "1047  Product_17  Region_2  114.370000        11.0  2023-12-18  1258.070000\n",
       "1048         NaN  Region_8  107.598688         5.0  2023-12-27   537.993439\n",
       "1049  Product_16  Region_2   69.300000         8.0  2024-02-23   554.400000\n",
       "\n",
       "[1049 rows x 6 columns]"
      ]
     },
     "execution_count": 24,
     "metadata": {},
     "output_type": "execute_result"
    }
   ],
   "source": [
    "df3"
   ]
  },
  {
   "attachments": {},
   "cell_type": "markdown",
   "metadata": {},
   "source": [
    "Below further analysis are followed\n",
    "Identify Top Performer by Product\n",
    "    Analyzing which Products gives contributed to Sales_Values\n",
    "    Analyzing Top sold Product by demand/ count\n",
    "\n",
    "Analyzing which Region gives contributed to Sales_Values\n",
    "    Analyzing Top sold Region by demand/ count\n"
   ]
  },
  {
   "cell_type": "code",
   "execution_count": 95,
   "metadata": {},
   "outputs": [
    {
     "data": {
      "text/html": [
       "<div>\n",
       "<style scoped>\n",
       "    .dataframe tbody tr th:only-of-type {\n",
       "        vertical-align: middle;\n",
       "    }\n",
       "\n",
       "    .dataframe tbody tr th {\n",
       "        vertical-align: top;\n",
       "    }\n",
       "\n",
       "    .dataframe thead th {\n",
       "        text-align: right;\n",
       "    }\n",
       "</style>\n",
       "<table border=\"1\" class=\"dataframe\">\n",
       "  <thead>\n",
       "    <tr style=\"text-align: right;\">\n",
       "      <th></th>\n",
       "      <th>Product</th>\n",
       "      <th>Sales_Value</th>\n",
       "    </tr>\n",
       "  </thead>\n",
       "  <tbody>\n",
       "    <tr>\n",
       "      <th>0</th>\n",
       "      <td>Product_1</td>\n",
       "      <td>23252.214074</td>\n",
       "    </tr>\n",
       "    <tr>\n",
       "      <th>1</th>\n",
       "      <td>Product_10</td>\n",
       "      <td>16773.060635</td>\n",
       "    </tr>\n",
       "    <tr>\n",
       "      <th>2</th>\n",
       "      <td>Product_11</td>\n",
       "      <td>11521.766878</td>\n",
       "    </tr>\n",
       "    <tr>\n",
       "      <th>3</th>\n",
       "      <td>Product_12</td>\n",
       "      <td>14101.783079</td>\n",
       "    </tr>\n",
       "    <tr>\n",
       "      <th>4</th>\n",
       "      <td>Product_13</td>\n",
       "      <td>20534.174074</td>\n",
       "    </tr>\n",
       "    <tr>\n",
       "      <th>5</th>\n",
       "      <td>Product_14</td>\n",
       "      <td>28715.554254</td>\n",
       "    </tr>\n",
       "    <tr>\n",
       "      <th>6</th>\n",
       "      <td>Product_15</td>\n",
       "      <td>18497.677016</td>\n",
       "    </tr>\n",
       "    <tr>\n",
       "      <th>7</th>\n",
       "      <td>Product_16</td>\n",
       "      <td>22810.821630</td>\n",
       "    </tr>\n",
       "    <tr>\n",
       "      <th>8</th>\n",
       "      <td>Product_17</td>\n",
       "      <td>17841.334254</td>\n",
       "    </tr>\n",
       "    <tr>\n",
       "      <th>9</th>\n",
       "      <td>Product_18</td>\n",
       "      <td>10355.310815</td>\n",
       "    </tr>\n",
       "    <tr>\n",
       "      <th>10</th>\n",
       "      <td>Product_19</td>\n",
       "      <td>21187.393757</td>\n",
       "    </tr>\n",
       "    <tr>\n",
       "      <th>11</th>\n",
       "      <td>Product_2</td>\n",
       "      <td>24927.671132</td>\n",
       "    </tr>\n",
       "    <tr>\n",
       "      <th>12</th>\n",
       "      <td>Product_20</td>\n",
       "      <td>25880.329820</td>\n",
       "    </tr>\n",
       "    <tr>\n",
       "      <th>13</th>\n",
       "      <td>Product_21</td>\n",
       "      <td>14307.490000</td>\n",
       "    </tr>\n",
       "    <tr>\n",
       "      <th>14</th>\n",
       "      <td>Product_22</td>\n",
       "      <td>18499.257513</td>\n",
       "    </tr>\n",
       "    <tr>\n",
       "      <th>15</th>\n",
       "      <td>Product_23</td>\n",
       "      <td>26509.695566</td>\n",
       "    </tr>\n",
       "    <tr>\n",
       "      <th>16</th>\n",
       "      <td>Product_24</td>\n",
       "      <td>16600.959323</td>\n",
       "    </tr>\n",
       "    <tr>\n",
       "      <th>17</th>\n",
       "      <td>Product_25</td>\n",
       "      <td>17429.030000</td>\n",
       "    </tr>\n",
       "    <tr>\n",
       "      <th>18</th>\n",
       "      <td>Product_26</td>\n",
       "      <td>31453.562127</td>\n",
       "    </tr>\n",
       "    <tr>\n",
       "      <th>19</th>\n",
       "      <td>Product_27</td>\n",
       "      <td>14125.654571</td>\n",
       "    </tr>\n",
       "    <tr>\n",
       "      <th>20</th>\n",
       "      <td>Product_28</td>\n",
       "      <td>15131.656381</td>\n",
       "    </tr>\n",
       "    <tr>\n",
       "      <th>21</th>\n",
       "      <td>Product_29</td>\n",
       "      <td>30907.226878</td>\n",
       "    </tr>\n",
       "    <tr>\n",
       "      <th>22</th>\n",
       "      <td>Product_3</td>\n",
       "      <td>8564.960815</td>\n",
       "    </tr>\n",
       "    <tr>\n",
       "      <th>23</th>\n",
       "      <td>Product_30</td>\n",
       "      <td>30767.330000</td>\n",
       "    </tr>\n",
       "    <tr>\n",
       "      <th>24</th>\n",
       "      <td>Product_31</td>\n",
       "      <td>31616.330000</td>\n",
       "    </tr>\n",
       "    <tr>\n",
       "      <th>25</th>\n",
       "      <td>Product_32</td>\n",
       "      <td>13604.606201</td>\n",
       "    </tr>\n",
       "    <tr>\n",
       "      <th>26</th>\n",
       "      <td>Product_33</td>\n",
       "      <td>21438.217196</td>\n",
       "    </tr>\n",
       "    <tr>\n",
       "      <th>27</th>\n",
       "      <td>Product_34</td>\n",
       "      <td>21749.668011</td>\n",
       "    </tr>\n",
       "    <tr>\n",
       "      <th>28</th>\n",
       "      <td>Product_35</td>\n",
       "      <td>25875.972444</td>\n",
       "    </tr>\n",
       "    <tr>\n",
       "      <th>29</th>\n",
       "      <td>Product_36</td>\n",
       "      <td>10466.238190</td>\n",
       "    </tr>\n",
       "    <tr>\n",
       "      <th>30</th>\n",
       "      <td>Product_37</td>\n",
       "      <td>17975.876878</td>\n",
       "    </tr>\n",
       "    <tr>\n",
       "      <th>31</th>\n",
       "      <td>Product_38</td>\n",
       "      <td>9690.080000</td>\n",
       "    </tr>\n",
       "    <tr>\n",
       "      <th>32</th>\n",
       "      <td>Product_39</td>\n",
       "      <td>17867.600000</td>\n",
       "    </tr>\n",
       "    <tr>\n",
       "      <th>33</th>\n",
       "      <td>Product_4</td>\n",
       "      <td>20980.786201</td>\n",
       "    </tr>\n",
       "    <tr>\n",
       "      <th>34</th>\n",
       "      <td>Product_40</td>\n",
       "      <td>27686.440000</td>\n",
       "    </tr>\n",
       "    <tr>\n",
       "      <th>35</th>\n",
       "      <td>Product_41</td>\n",
       "      <td>27333.782265</td>\n",
       "    </tr>\n",
       "    <tr>\n",
       "      <th>36</th>\n",
       "      <td>Product_42</td>\n",
       "      <td>15067.635386</td>\n",
       "    </tr>\n",
       "    <tr>\n",
       "      <th>37</th>\n",
       "      <td>Product_43</td>\n",
       "      <td>16244.281947</td>\n",
       "    </tr>\n",
       "    <tr>\n",
       "      <th>38</th>\n",
       "      <td>Product_44</td>\n",
       "      <td>18516.741767</td>\n",
       "    </tr>\n",
       "    <tr>\n",
       "      <th>39</th>\n",
       "      <td>Product_45</td>\n",
       "      <td>26828.765566</td>\n",
       "    </tr>\n",
       "    <tr>\n",
       "      <th>40</th>\n",
       "      <td>Product_46</td>\n",
       "      <td>19315.925386</td>\n",
       "    </tr>\n",
       "    <tr>\n",
       "      <th>41</th>\n",
       "      <td>Product_47</td>\n",
       "      <td>12950.586878</td>\n",
       "    </tr>\n",
       "    <tr>\n",
       "      <th>42</th>\n",
       "      <td>Product_48</td>\n",
       "      <td>27415.480000</td>\n",
       "    </tr>\n",
       "    <tr>\n",
       "      <th>43</th>\n",
       "      <td>Product_49</td>\n",
       "      <td>19213.250000</td>\n",
       "    </tr>\n",
       "    <tr>\n",
       "      <th>44</th>\n",
       "      <td>Product_5</td>\n",
       "      <td>17883.726878</td>\n",
       "    </tr>\n",
       "    <tr>\n",
       "      <th>45</th>\n",
       "      <td>Product_50</td>\n",
       "      <td>26632.783259</td>\n",
       "    </tr>\n",
       "    <tr>\n",
       "      <th>46</th>\n",
       "      <td>Product_6</td>\n",
       "      <td>16294.252942</td>\n",
       "    </tr>\n",
       "    <tr>\n",
       "      <th>47</th>\n",
       "      <td>Product_7</td>\n",
       "      <td>27766.072762</td>\n",
       "    </tr>\n",
       "    <tr>\n",
       "      <th>48</th>\n",
       "      <td>Product_8</td>\n",
       "      <td>15576.940000</td>\n",
       "    </tr>\n",
       "    <tr>\n",
       "      <th>49</th>\n",
       "      <td>Product_9</td>\n",
       "      <td>12715.956381</td>\n",
       "    </tr>\n",
       "  </tbody>\n",
       "</table>\n",
       "</div>"
      ],
      "text/plain": [
       "       Product   Sales_Value\n",
       "0    Product_1  23252.214074\n",
       "1   Product_10  16773.060635\n",
       "2   Product_11  11521.766878\n",
       "3   Product_12  14101.783079\n",
       "4   Product_13  20534.174074\n",
       "5   Product_14  28715.554254\n",
       "6   Product_15  18497.677016\n",
       "7   Product_16  22810.821630\n",
       "8   Product_17  17841.334254\n",
       "9   Product_18  10355.310815\n",
       "10  Product_19  21187.393757\n",
       "11   Product_2  24927.671132\n",
       "12  Product_20  25880.329820\n",
       "13  Product_21  14307.490000\n",
       "14  Product_22  18499.257513\n",
       "15  Product_23  26509.695566\n",
       "16  Product_24  16600.959323\n",
       "17  Product_25  17429.030000\n",
       "18  Product_26  31453.562127\n",
       "19  Product_27  14125.654571\n",
       "20  Product_28  15131.656381\n",
       "21  Product_29  30907.226878\n",
       "22   Product_3   8564.960815\n",
       "23  Product_30  30767.330000\n",
       "24  Product_31  31616.330000\n",
       "25  Product_32  13604.606201\n",
       "26  Product_33  21438.217196\n",
       "27  Product_34  21749.668011\n",
       "28  Product_35  25875.972444\n",
       "29  Product_36  10466.238190\n",
       "30  Product_37  17975.876878\n",
       "31  Product_38   9690.080000\n",
       "32  Product_39  17867.600000\n",
       "33   Product_4  20980.786201\n",
       "34  Product_40  27686.440000\n",
       "35  Product_41  27333.782265\n",
       "36  Product_42  15067.635386\n",
       "37  Product_43  16244.281947\n",
       "38  Product_44  18516.741767\n",
       "39  Product_45  26828.765566\n",
       "40  Product_46  19315.925386\n",
       "41  Product_47  12950.586878\n",
       "42  Product_48  27415.480000\n",
       "43  Product_49  19213.250000\n",
       "44   Product_5  17883.726878\n",
       "45  Product_50  26632.783259\n",
       "46   Product_6  16294.252942\n",
       "47   Product_7  27766.072762\n",
       "48   Product_8  15576.940000\n",
       "49   Product_9  12715.956381"
      ]
     },
     "execution_count": 95,
     "metadata": {},
     "output_type": "execute_result"
    }
   ],
   "source": [
    "df3.groupby('Product', as_index=False)[['Sales_Value']].sum()"
   ]
  },
  {
   "cell_type": "code",
   "execution_count": 85,
   "metadata": {},
   "outputs": [
    {
     "data": {
      "text/html": [
       "<div>\n",
       "<style scoped>\n",
       "    .dataframe tbody tr th:only-of-type {\n",
       "        vertical-align: middle;\n",
       "    }\n",
       "\n",
       "    .dataframe tbody tr th {\n",
       "        vertical-align: top;\n",
       "    }\n",
       "\n",
       "    .dataframe thead th {\n",
       "        text-align: right;\n",
       "    }\n",
       "</style>\n",
       "<table border=\"1\" class=\"dataframe\">\n",
       "  <thead>\n",
       "    <tr style=\"text-align: right;\">\n",
       "      <th></th>\n",
       "      <th>Product</th>\n",
       "      <th>Sales_Value</th>\n",
       "    </tr>\n",
       "  </thead>\n",
       "  <tbody>\n",
       "    <tr>\n",
       "      <th>5</th>\n",
       "      <td>Product_14</td>\n",
       "      <td>28715.554254</td>\n",
       "    </tr>\n",
       "    <tr>\n",
       "      <th>23</th>\n",
       "      <td>Product_30</td>\n",
       "      <td>30767.330000</td>\n",
       "    </tr>\n",
       "    <tr>\n",
       "      <th>21</th>\n",
       "      <td>Product_29</td>\n",
       "      <td>30907.226878</td>\n",
       "    </tr>\n",
       "    <tr>\n",
       "      <th>18</th>\n",
       "      <td>Product_26</td>\n",
       "      <td>31453.562127</td>\n",
       "    </tr>\n",
       "    <tr>\n",
       "      <th>24</th>\n",
       "      <td>Product_31</td>\n",
       "      <td>31616.330000</td>\n",
       "    </tr>\n",
       "  </tbody>\n",
       "</table>\n",
       "</div>"
      ],
      "text/plain": [
       "       Product   Sales_Value\n",
       "5   Product_14  28715.554254\n",
       "23  Product_30  30767.330000\n",
       "21  Product_29  30907.226878\n",
       "18  Product_26  31453.562127\n",
       "24  Product_31  31616.330000"
      ]
     },
     "execution_count": 85,
     "metadata": {},
     "output_type": "execute_result"
    }
   ],
   "source": [
    "df4 = df3.groupby('Product', as_index=False)['Sales_Value'].sum().sort_values(by=['Sales_Value']).tail(5)\n",
    "df4\n",
    "                                                                                                                    "
   ]
  },
  {
   "cell_type": "code",
   "execution_count": 89,
   "metadata": {},
   "outputs": [
    {
     "data": {
      "text/plain": [
       "<Axes: xlabel='Product'>"
      ]
     },
     "execution_count": 89,
     "metadata": {},
     "output_type": "execute_result"
    },
    {
     "data": {
      "image/png": "[encoded data removed]",
      "text/plain": [
       "<Figure size 640x480 with 1 Axes>"
      ]
     },
     "metadata": {},
     "output_type": "display_data"
    }
   ],
   "source": [
    "df4.set_index('Product', inplace=True)\n",
    "df4.plot(kind='bar', stacked= True)"
   ]
  },
  {
   "cell_type": "code",
   "execution_count": 100,
   "metadata": {},
   "outputs": [
    {
     "data": {
      "text/html": [
       "<div>\n",
       "<style scoped>\n",
       "    .dataframe tbody tr th:only-of-type {\n",
       "        vertical-align: middle;\n",
       "    }\n",
       "\n",
       "    .dataframe tbody tr th {\n",
       "        vertical-align: top;\n",
       "    }\n",
       "\n",
       "    .dataframe thead th {\n",
       "        text-align: right;\n",
       "    }\n",
       "</style>\n",
       "<table border=\"1\" class=\"dataframe\">\n",
       "  <thead>\n",
       "    <tr style=\"text-align: right;\">\n",
       "      <th></th>\n",
       "      <th>Product</th>\n",
       "      <th>Units_Sold</th>\n",
       "    </tr>\n",
       "  </thead>\n",
       "  <tbody>\n",
       "    <tr>\n",
       "      <th>39</th>\n",
       "      <td>Product_45</td>\n",
       "      <td>253.0</td>\n",
       "    </tr>\n",
       "    <tr>\n",
       "      <th>0</th>\n",
       "      <td>Product_1</td>\n",
       "      <td>255.0</td>\n",
       "    </tr>\n",
       "    <tr>\n",
       "      <th>23</th>\n",
       "      <td>Product_30</td>\n",
       "      <td>260.0</td>\n",
       "    </tr>\n",
       "    <tr>\n",
       "      <th>44</th>\n",
       "      <td>Product_5</td>\n",
       "      <td>260.0</td>\n",
       "    </tr>\n",
       "    <tr>\n",
       "      <th>4</th>\n",
       "      <td>Product_13</td>\n",
       "      <td>261.0</td>\n",
       "    </tr>\n",
       "  </tbody>\n",
       "</table>\n",
       "</div>"
      ],
      "text/plain": [
       "       Product  Units_Sold\n",
       "39  Product_45       253.0\n",
       "0    Product_1       255.0\n",
       "23  Product_30       260.0\n",
       "44   Product_5       260.0\n",
       "4   Product_13       261.0"
      ]
     },
     "execution_count": 100,
     "metadata": {},
     "output_type": "execute_result"
    }
   ],
   "source": [
    "df3.groupby('Product', as_index=False)[['Units_Sold']].sum()\n",
    "df4 = df3.groupby('Product', as_index=False)['Units_Sold'].sum().sort_values(by=['Units_Sold']).tail(5)\n",
    "df4"
   ]
  },
  {
   "cell_type": "code",
   "execution_count": 92,
   "metadata": {},
   "outputs": [
    {
     "data": {
      "text/plain": [
       "<Axes: xlabel='Product'>"
      ]
     },
     "execution_count": 92,
     "metadata": {},
     "output_type": "execute_result"
    },
    {
     "data": {
      "image/png": "[encoded data removed]",
      "text/plain": [
       "<Figure size 640x480 with 1 Axes>"
      ]
     },
     "metadata": {},
     "output_type": "display_data"
    }
   ],
   "source": [
    "df4.set_index('Product', inplace=True)\n",
    "df4.plot(kind='bar', stacked= True)"
   ]
  },
  {
   "cell_type": "code",
   "execution_count": 96,
   "metadata": {},
   "outputs": [
    {
     "data": {
      "text/html": [
       "<div>\n",
       "<style scoped>\n",
       "    .dataframe tbody tr th:only-of-type {\n",
       "        vertical-align: middle;\n",
       "    }\n",
       "\n",
       "    .dataframe tbody tr th {\n",
       "        vertical-align: top;\n",
       "    }\n",
       "\n",
       "    .dataframe thead th {\n",
       "        text-align: right;\n",
       "    }\n",
       "</style>\n",
       "<table border=\"1\" class=\"dataframe\">\n",
       "  <thead>\n",
       "    <tr style=\"text-align: right;\">\n",
       "      <th></th>\n",
       "      <th>Region</th>\n",
       "      <th>Sales_Value</th>\n",
       "    </tr>\n",
       "  </thead>\n",
       "  <tbody>\n",
       "    <tr>\n",
       "      <th>0</th>\n",
       "      <td>Region_1</td>\n",
       "      <td>87256.076656</td>\n",
       "    </tr>\n",
       "    <tr>\n",
       "      <th>1</th>\n",
       "      <td>Region_10</td>\n",
       "      <td>109648.077788</td>\n",
       "    </tr>\n",
       "    <tr>\n",
       "      <th>2</th>\n",
       "      <td>Region_2</td>\n",
       "      <td>101956.608963</td>\n",
       "    </tr>\n",
       "    <tr>\n",
       "      <th>3</th>\n",
       "      <td>Region_3</td>\n",
       "      <td>90123.984804</td>\n",
       "    </tr>\n",
       "    <tr>\n",
       "      <th>4</th>\n",
       "      <td>Region_4</td>\n",
       "      <td>105547.790730</td>\n",
       "    </tr>\n",
       "    <tr>\n",
       "      <th>5</th>\n",
       "      <td>Region_5</td>\n",
       "      <td>101414.102042</td>\n",
       "    </tr>\n",
       "    <tr>\n",
       "      <th>6</th>\n",
       "      <td>Region_6</td>\n",
       "      <td>79573.655661</td>\n",
       "    </tr>\n",
       "    <tr>\n",
       "      <th>7</th>\n",
       "      <td>Region_7</td>\n",
       "      <td>71243.315026</td>\n",
       "    </tr>\n",
       "    <tr>\n",
       "      <th>8</th>\n",
       "      <td>Region_8</td>\n",
       "      <td>129235.435661</td>\n",
       "    </tr>\n",
       "    <tr>\n",
       "      <th>9</th>\n",
       "      <td>Region_9</td>\n",
       "      <td>115733.374571</td>\n",
       "    </tr>\n",
       "  </tbody>\n",
       "</table>\n",
       "</div>"
      ],
      "text/plain": [
       "      Region    Sales_Value\n",
       "0   Region_1   87256.076656\n",
       "1  Region_10  109648.077788\n",
       "2   Region_2  101956.608963\n",
       "3   Region_3   90123.984804\n",
       "4   Region_4  105547.790730\n",
       "5   Region_5  101414.102042\n",
       "6   Region_6   79573.655661\n",
       "7   Region_7   71243.315026\n",
       "8   Region_8  129235.435661\n",
       "9   Region_9  115733.374571"
      ]
     },
     "execution_count": 96,
     "metadata": {},
     "output_type": "execute_result"
    }
   ],
   "source": [
    "df3.groupby('Region', as_index=False)[['Sales_Value']].sum()"
   ]
  },
  {
   "cell_type": "code",
   "execution_count": 97,
   "metadata": {},
   "outputs": [
    {
     "data": {
      "text/plain": [
       "<Axes: xlabel='Region'>"
      ]
     },
     "execution_count": 97,
     "metadata": {},
     "output_type": "execute_result"
    },
    {
     "data": {
      "image/png": "[encoded data removed]",
      "text/plain": [
       "<Figure size 640x480 with 1 Axes>"
      ]
     },
     "metadata": {},
     "output_type": "display_data"
    }
   ],
   "source": [
    "df5 = df3.groupby('Region', as_index=False)['Sales_Value'].sum().sort_values(by=['Sales_Value']).tail(5)\n",
    "df5.set_index('Region', inplace=True)\n",
    "df5.plot(kind='bar', stacked= True)"
   ]
  },
  {
   "cell_type": "code",
   "execution_count": 99,
   "metadata": {},
   "outputs": [
    {
     "data": {
      "text/plain": [
       "<Axes: xlabel='Region'>"
      ]
     },
     "execution_count": 99,
     "metadata": {},
     "output_type": "execute_result"
    },
    {
     "data": {
      "image/png": "[encoded data removed]",
      "text/plain": [
       "<Figure size 640x480 with 1 Axes>"
      ]
     },
     "metadata": {},
     "output_type": "display_data"
    }
   ],
   "source": [
    "df5 = df3.groupby('Region', as_index=False)['Units_Sold'].sum().sort_values(by=['Units_Sold']).tail(5)\n",
    "df5.set_index('Region', inplace=True)\n",
    "df5.plot(kind='bar', stacked= True)"
   ]
  },
  {
   "attachments": {},
   "cell_type": "markdown",
   "metadata": {},
   "source": [
    "What conclusions can you draw about sales performance of various products and regions?\n",
    "\n",
    "    Top 3 products by Sales_Values are Product_31, Product_26, Product_29, respectively  whereas based on the Units_Sold Top 3 products which are in demand are Product_13, Product_5, Product_30.\n",
    "\n",
    "    Similarly, Top 3 regions  are Region_8, Region_9 and Region_10 which are contributing towards Sales_Values whereas Top 3 Regions which has higher Unit_Solds are Region_9, Region_10 and Region_4.\n",
    "\n",
    "   \n",
    "\n",
    "2) What recommendations do you have for the business?\n",
    "\n",
    "    Excluding Top performing Product and Region, other remaining products are region requires further analysis to determine if they remain efficient and cost effective for business viability.\n",
    "\n",
    "    \n",
    "\n",
    "3) Describe your data cleaning approach. How and why did you decide on which cleaning techniques to use?\n",
    "\n",
    "    I decided to make the following changes as part of the cleaning\n",
    "        1.  Dropped one outlier from Price Column which was extremely out of the remaining data set\n",
    "        2.  Replacing missing values (i.e. NaN' ) in Price and Units_Sold column by mean and median of respective column\n",
    "        \n",
    "        Total 103 Product and 104 Region data filed remain blank (i.e. NaN) which is ~10% of data however    \n",
    "        Product and Region data cleaning has not been made based as based on assumption this may skew the data outcome in favor/ against a product or Region and remain not viable for the business recommendation.\n",
    "\n",
    "\n",
    "    "
   ]
  }
 ],
 "metadata": {
  "kernelspec": {
   "display_name": "Python 3",
   "language": "python",
   "name": "python3"
  },
  "language_info": {
   "codemirror_mode": {
    "name": "ipython",
    "version": 3
   },
   "file_extension": ".py",
   "mimetype": "text/x-python",
   "name": "python",
   "nbconvert_exporter": "python",
   "pygments_lexer": "ipython3",
   "version": "3.11.3"
  },
  "orig_nbformat": 4
 },
 "nbformat": 4,
 "nbformat_minor": 2
}
